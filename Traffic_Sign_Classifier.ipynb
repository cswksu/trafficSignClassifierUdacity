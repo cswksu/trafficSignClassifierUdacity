{
 "cells": [
  {
   "cell_type": "markdown",
   "metadata": {},
   "source": [
    "# Self-Driving Car Engineer Nanodegree\n",
    "\n",
    "## Deep Learning\n",
    "\n",
    "## Project: Build a Traffic Sign Recognition Classifier\n",
    "\n",
    "In this notebook, a template is provided for you to implement your functionality in stages, which is required to successfully complete this project. If additional code is required that cannot be included in the notebook, be sure that the Python code is successfully imported and included in your submission if necessary. \n",
    "\n",
    "> **Note**: Once you have completed all of the code implementations, you need to finalize your work by exporting the iPython Notebook as an HTML document. Before exporting the notebook to html, all of the code cells need to have been run so that reviewers can see the final implementation and output. You can then export the notebook by using the menu above and navigating to  \\n\",\n",
    "    \"**File -> Download as -> HTML (.html)**. Include the finished document along with this notebook as your submission. \n",
    "\n",
    "In addition to implementing code, there is a writeup to complete. The writeup should be completed in a separate file, which can be either a markdown file or a pdf document. There is a [write up template](https://github.com/udacity/CarND-Traffic-Sign-Classifier-Project/blob/master/writeup_template.md) that can be used to guide the writing process. Completing the code template and writeup template will cover all of the [rubric points](https://review.udacity.com/#!/rubrics/481/view) for this project.\n",
    "\n",
    "The [rubric](https://review.udacity.com/#!/rubrics/481/view) contains \"Stand Out Suggestions\" for enhancing the project beyond the minimum requirements. The stand out suggestions are optional. If you decide to pursue the \"stand out suggestions\", you can include the code in this Ipython notebook and also discuss the results in the writeup file.\n",
    "\n",
    "\n",
    ">**Note:** Code and Markdown cells can be executed using the **Shift + Enter** keyboard shortcut. In addition, Markdown cells can be edited by typically double-clicking the cell to enter edit mode."
   ]
  },
  {
   "cell_type": "markdown",
   "metadata": {},
   "source": [
    "---\n",
    "## Step 0: Load The Data"
   ]
  },
  {
   "cell_type": "code",
   "execution_count": null,
   "metadata": {},
   "outputs": [],
   "source": [
    "#import necessary libraries\n",
    "import pickle\n",
    "import numpy as np\n",
    "import random\n",
    "import matplotlib.pyplot as plt\n",
    "import random\n",
    "import cv2\n",
    "from sklearn.utils import shuffle\n",
    "# Visualizations will be shown in the notebook.\n",
    "%matplotlib inline"
   ]
  },
  {
   "cell_type": "code",
   "execution_count": null,
   "metadata": {},
   "outputs": [],
   "source": [
    "# Load pickled data\n",
    "\n",
    "\n",
    "\n",
    "# load pickled files from data folder\n",
    "\n",
    "training_file = 'data/train.p'\n",
    "validation_file='data/valid.p'\n",
    "testing_file = 'data/test.p'\n",
    "\n",
    "with open(training_file, mode='rb') as f:\n",
    "    train = pickle.load(f)\n",
    "with open(validation_file, mode='rb') as f:\n",
    "    valid = pickle.load(f)\n",
    "with open(testing_file, mode='rb') as f:\n",
    "    test = pickle.load(f)\n",
    "\n",
    "#data sets are dictionary entries\n",
    "X_train, y_train = train['features'], train['labels']\n",
    "X_valid, y_valid = valid['features'], valid['labels']\n",
    "X_test, y_test = test['features'], test['labels']\n",
    "y_train=np.append(y_train,y_train,axis=0) #double length of y_train, as extra augmented data will be added"
   ]
  },
  {
   "cell_type": "markdown",
   "metadata": {},
   "source": [
    "---\n",
    "\n",
    "## Step 1: Dataset Summary & Exploration\n",
    "\n",
    "The pickled data is a dictionary with 4 key/value pairs:\n",
    "\n",
    "- `'features'` is a 4D array containing raw pixel data of the traffic sign images, (num examples, width, height, channels).\n",
    "- `'labels'` is a 1D array containing the label/class id of the traffic sign. The file `signnames.csv` contains id -> name mappings for each id.\n",
    "- `'sizes'` is a list containing tuples, (width, height) representing the original width and height the image.\n",
    "- `'coords'` is a list containing tuples, (x1, y1, x2, y2) representing coordinates of a bounding box around the sign in the image. **THESE COORDINATES ASSUME THE ORIGINAL IMAGE. THE PICKLED DATA CONTAINS RESIZED VERSIONS (32 by 32) OF THESE IMAGES**\n",
    "\n",
    "Complete the basic data summary below. Use python, numpy and/or pandas methods to calculate the data summary rather than hard coding the results. For example, the [pandas shape method](http://pandas.pydata.org/pandas-docs/stable/generated/pandas.DataFrame.shape.html) might be useful for calculating some of the summary results. "
   ]
  },
  {
   "cell_type": "markdown",
   "metadata": {},
   "source": [
    "### Provide a Basic Summary of the Data Set Using Python, Numpy and/or Pandas"
   ]
  },
  {
   "cell_type": "code",
   "execution_count": null,
   "metadata": {},
   "outputs": [],
   "source": [
    "#store number of data entries in each set.\n",
    "\n",
    "#Number of training examples (before augmentation)\n",
    "n_train = len(X_train)\n",
    "\n",
    "#Number of validation examples\n",
    "n_validation = len(X_valid)\n",
    "\n",
    "#Number of testing examples.\n",
    "n_test = len(X_test)\n",
    "\n",
    "#Shape of an traffic sign image\n",
    "image_shape = (len(X_train[0]),len(X_train[0][0]))\n",
    "\n",
    "#Use set data structure to identify how many unique classes/labels there are in the dataset.\n",
    "n_classes = len(set(y_train))\n",
    "\n",
    "#print data summary\n",
    "print(\"Number of training examples =\", n_train)\n",
    "print(\"Number of testing examples =\", n_test)\n",
    "print(\"Image data shape =\", image_shape)\n",
    "print(\"Number of classes =\", n_classes)"
   ]
  },
  {
   "cell_type": "markdown",
   "metadata": {},
   "source": [
    "### Include an exploratory visualization of the dataset"
   ]
  },
  {
   "cell_type": "markdown",
   "metadata": {},
   "source": [
    "Visualize the German Traffic Signs Dataset using the pickled file(s). This is open ended, suggestions include: plotting traffic sign images, plotting the count of each sign, etc. \n",
    "\n",
    "The [Matplotlib](http://matplotlib.org/) [examples](http://matplotlib.org/examples/index.html) and [gallery](http://matplotlib.org/gallery.html) pages are a great resource for doing visualizations in Python.\n",
    "\n",
    "**NOTE:** It's recommended you start with something simple first. If you wish to do more, come back to it after you've completed the rest of the sections. It can be interesting to look at the distribution of classes in the training, validation and test set. Is the distribution the same? Are there more examples of some classes than others?"
   ]
  },
  {
   "cell_type": "code",
   "execution_count": null,
   "metadata": {},
   "outputs": [],
   "source": [
    "### Data exploration visualization code goes here.\n",
    "### Feel free to use as many code cells as needed.\n",
    "\n",
    "\n",
    "fig, axs=plt.subplots(1,3)\n",
    "_=axs[0].hist(y_train,bins=n_classes)\n",
    "_=axs[1].hist(y_valid,bins=n_classes)\n",
    "_=axs[2].hist(y_test,bins=n_classes)\n",
    "\n",
    "print(\"training, validation, and testing data sets in order\")"
   ]
  },
  {
   "cell_type": "markdown",
   "metadata": {},
   "source": [
    "Distribution of data seems similar across all 3 data sets. Distribution within the sets is highly irregular."
   ]
  },
  {
   "cell_type": "code",
   "execution_count": null,
   "metadata": {},
   "outputs": [],
   "source": [
    "#visualize first training image and print RGB value of top left corner\n",
    "plt.imshow(X_train[0,:,:,:])"
   ]
  },
  {
   "cell_type": "code",
   "execution_count": null,
   "metadata": {},
   "outputs": [],
   "source": [
    "#print 4D array shape for X_train and length of y_train\n",
    "\n",
    "print(X_train.shape)\n",
    "print(y_train.shape)"
   ]
  },
  {
   "cell_type": "markdown",
   "metadata": {},
   "source": [
    "# ----\n",
    "\n",
    "## Step 2: Design and Test a Model Architecture\n",
    "\n",
    "Design and implement a deep learning model that learns to recognize traffic signs. Train and test your model on the [German Traffic Sign Dataset](http://benchmark.ini.rub.de/?section=gtsrb&subsection=dataset).\n",
    "\n",
    "The LeNet-5 implementation shown in the [classroom](https://classroom.udacity.com/nanodegrees/nd013/parts/fbf77062-5703-404e-b60c-95b78b2f3f9e/modules/6df7ae49-c61c-4bb2-a23e-6527e69209ec/lessons/601ae704-1035-4287-8b11-e2c2716217ad/concepts/d4aca031-508f-4e0b-b493-e7b706120f81) at the end of the CNN lesson is a solid starting point. You'll have to change the number of classes and possibly the preprocessing, but aside from that it's plug and play! \n",
    "\n",
    "With the LeNet-5 solution from the lecture, you should expect a validation set accuracy of about 0.89. To meet specifications, the validation set accuracy will need to be at least 0.93. It is possible to get an even higher accuracy, but 0.93 is the minimum for a successful project submission. \n",
    "\n",
    "There are various aspects to consider when thinking about this problem:\n",
    "\n",
    "- Neural network architecture (is the network over or underfitting?)\n",
    "- Play around preprocessing techniques (normalization, rgb to grayscale, etc)\n",
    "- Number of examples per label (some have more than others).\n",
    "- Generate fake data.\n",
    "\n",
    "Here is an example of a [published baseline model on this problem](http://yann.lecun.com/exdb/publis/pdf/sermanet-ijcnn-11.pdf). It's not required to be familiar with the approach used in the paper but, it's good practice to try to read papers like these."
   ]
  },
  {
   "cell_type": "markdown",
   "metadata": {},
   "source": [
    "### Pre-process the Data Set (normalization, grayscale, etc.)"
   ]
  },
  {
   "cell_type": "markdown",
   "metadata": {},
   "source": [
    "Minimally, the image data should be normalized so that the data has mean zero and equal variance. For image data, `(pixel - 128)/ 128` is a quick way to approximately normalize the data and can be used in this project. \n",
    "\n",
    "Other pre-processing steps are optional. You can try different techniques to see if it improves performance. \n",
    "\n",
    "Use the code cell (or multiple code cells, if necessary) to implement the first step of your project."
   ]
  },
  {
   "cell_type": "code",
   "execution_count": null,
   "metadata": {},
   "outputs": [],
   "source": [
    "#Data is padded first. 2 pixels are padded on all sides of image, changing dimensions to 36x36\n",
    "\n",
    "X_trainP      = np.pad(X_train, ((0,0),(2,2),(2,2),(0,0)), 'constant')\n",
    "X_validP = np.pad(X_valid, ((0,0),(2,2),(2,2),(0,0)), 'constant')\n",
    "X_testP       = np.pad(X_test, ((0,0),(2,2),(2,2),(0,0)), 'constant')\n",
    "\n",
    "\n",
    "#create new arrays for processed data, which will be in HSV format\n",
    "h_train=np.zeros((n_train,36,36,3),dtype=np.uint8) #training\n",
    "h_train_aug=np.zeros((n_train,36,36,3),dtype=np.uint8) #augmented training data\n",
    "h_valid=np.zeros((n_validation,36,36,3),dtype=np.uint8) #validation data\n",
    "h_test=np.zeros((n_test,36,36,3),dtype=np.uint8) #test data\n",
    "print('arrays created')\n",
    "\n",
    "#for all training data\n",
    "for i in range(n_train):\n",
    "    im=X_trainP[i] #store image\n",
    "    h_train[i,:,:,:]=cv2.cvtColor(im,cv2.COLOR_RGB2HSV) #convert RGB to HSV\n",
    "    \n",
    "    #data augmentation step: rotate up to +/-7 degrees\n",
    "    #with 2px padding, cap of 7 degrees means no information is lost\n",
    "    M=cv2.getRotationMatrix2D((18,18),14*random.random()-7,1).astype(float) #create transformation matrix\n",
    "    dst=cv2.warpAffine(h_train[i,:,:,:],M,(36,36)) #rotate by up to 7 degrees\n",
    "    dst=np.resize(dst,(1,36,36,3)) #add 4th dimension\n",
    "    h_train_aug[i,:,:,:]=dst #add to augmentation matrix\n",
    "    \n",
    "h_train=np.append(h_train,h_train_aug,axis=0) #add augmentation matrix to standard matrix\n",
    "preRot=np.copy(h_train[0,:,:,:]) #store copy of pre-rotated image before normalization\n",
    "postRot=np.copy(h_train[n_train,:,:,:]) #same but post-rotation\n",
    "h_train=h_train.astype(float) #cast as float\n",
    "h_train[:,:,:,0]=np.subtract(np.divide(h_train[:,:,:,0],90.),1.) #normalize hue, saturation, value\n",
    "h_train[:,:,:,1]=np.subtract(np.divide(h_train[:,:,:,1],128.),1.)\n",
    "h_train[:,:,:,2]=np.subtract(np.divide(h_train[:,:,:,2],128.),1.)\n",
    "print('training done')\n",
    "for i in range(n_validation): #repeat for validation and test data, with exception of augmentation\n",
    "    h_valid[i,:,:,:]=cv2.cvtColor(X_validP[i],cv2.COLOR_RGB2HSV)\n",
    "h_valid=h_valid.astype(float)\n",
    "h_valid[:,:,:,0]=np.subtract(np.divide(h_valid[:,:,:,0],90.),1.)\n",
    "h_valid[:,:,:,1]=np.subtract(np.divide(h_valid[:,:,:,1],128.),1.)\n",
    "h_valid[:,:,:,2]=np.subtract(np.divide(h_valid[:,:,:,2],128.),1.)\n",
    "print('validation done')\n",
    "for i in range(n_test):\n",
    "    h_test[i,:,:,:]=cv2.cvtColor(X_testP[i],cv2.COLOR_RGB2HSV)\n",
    "h_test=h_test.astype(float)\n",
    "h_test[:,:,:,0]=np.subtract(np.divide(h_test[:,:,:,0],90.0),1.0)\n",
    "h_test[:,:,:,1]=np.subtract(np.divide(h_test[:,:,:,1],128.0),1.0)\n",
    "h_test[:,:,:,2]=np.subtract(np.divide(h_test[:,:,:,2],128.0),1.0)\n",
    "\n",
    "\n",
    "print('test done')"
   ]
  },
  {
   "cell_type": "code",
   "execution_count": null,
   "metadata": {},
   "outputs": [],
   "source": [
    "preRot=cv2.cvtColor(preRot,cv2.COLOR_HSV2RGB) #convert back to RGB\n",
    "\n",
    "plt.imshow(preRot) #show prerotated image to verify no changes\n",
    "\n",
    "#print first non-padded pixel\n",
    "print(preRot[2,2,:])"
   ]
  },
  {
   "cell_type": "code",
   "execution_count": null,
   "metadata": {},
   "outputs": [],
   "source": [
    "#repeat for post-rotation image\n",
    "\n",
    "postRot=cv2.cvtColor(postRot,cv2.COLOR_HSV2RGB)\n",
    "\n",
    "plt.imshow(postRot)\n",
    "\n",
    "print(postRot[2,2,:])"
   ]
  },
  {
   "cell_type": "code",
   "execution_count": null,
   "metadata": {},
   "outputs": [],
   "source": [
    "print(np.max(h_test[1,:,:,:]))\n",
    "print(np.min(h_test[1,:,:,:]))\n",
    "\n",
    "#verify normalization, results should be near 1 and -1"
   ]
  },
  {
   "cell_type": "markdown",
   "metadata": {},
   "source": [
    "### Model Architecture"
   ]
  },
  {
   "cell_type": "code",
   "execution_count": null,
   "metadata": {},
   "outputs": [],
   "source": [
    "### Define your architecture here.\n",
    "### Feel free to use as many code cells as needed.\n",
    "\n",
    "import tensorflow as tf\n",
    "from tensorflow.contrib.layers import flatten\n",
    "\n",
    "EPOCHS=15 #increase number of epochs\n",
    "BATCH_SIZE=32 #lower batch size\n",
    "\n",
    "def LeNet(x,keep):\n",
    "    \n",
    "    #3 convolution layers with 4 fully connected layers, ReLu activation functions, 2x2 max pooling between\n",
    "    #convolution and 1st fully connected layer\n",
    "    \n",
    "    mu=0 #initialize mu and sigma for gaussian distribution use\n",
    "    sigma=0.1\n",
    "    keep_prob=keep #keep probability for dropout\n",
    "    \n",
    "    conv1depth=256 #set depth of convolutional layers\n",
    "    conv2depth=128\n",
    "    conv3depth=64\n",
    "    flatten1=12*12*conv3depth\n",
    "    \n",
    "    fc1size=200\n",
    "    fc2size=100\n",
    "    fc3size=75\n",
    "    fc4size=43\n",
    "    \n",
    "    #layer 1 convolution\n",
    "    \n",
    "    conv1_weights= tf.Variable(tf.truncated_normal(shape=(5,5,3,conv1depth), mean=mu, stddev=sigma))\n",
    "    conv1_biases=tf.Variable(tf.zeros(conv1depth))\n",
    "    conv1=tf.nn.conv2d(x,conv1_weights,strides=[1,1,1,1],padding='VALID')+conv1_biases\n",
    "    \n",
    "    #activation function 1\n",
    "    conv1=tf.nn.relu(conv1)\n",
    "    conv1=tf.nn.dropout(conv1,keep_prob) #dropout 1\n",
    "    \n",
    "    #Layer 2 convolutional\n",
    "    \n",
    "    conv2_weights=tf.Variable(tf.truncated_normal(shape=(5,5,conv1depth,conv2depth),mean=mu,stddev=sigma))\n",
    "    conv2_biases=tf.Variable(tf.zeros(conv2depth))\n",
    "    conv2=tf.nn.conv2d(conv1,conv2_weights,strides=[1,1,1,1],padding='VALID')+conv2_biases\n",
    "    \n",
    "    #Activation function 2\n",
    "    \n",
    "    conv2=tf.nn.relu(conv2)\n",
    "    \n",
    "    conv2=tf.nn.dropout(conv2,keep_prob) #dropout 2\n",
    "    \n",
    "    #layer 3 convolutional\n",
    "    \n",
    "    conv3_weights=tf.Variable(tf.truncated_normal(shape=(5,5,conv2depth,conv3depth),mean=mu,stddev=sigma))\n",
    "    conv3_biases=tf.Variable(tf.zeros(conv3depth))\n",
    "    conv3=tf.nn.conv2d(conv2,conv3_weights,strides=[1,1,1,1],padding='VALID')+conv3_biases\n",
    "    \n",
    "    #Activation function 3\n",
    "    \n",
    "    conv3=tf.nn.relu(conv3)\n",
    "    \n",
    "    conv3=tf.nn.dropout(conv3,keep_prob) #dropout 3\n",
    "    \n",
    "    #pooling\n",
    "    conv3=tf.nn.max_pool(conv3,ksize=[1,2,2,1],strides=[1,2,2,1],padding='VALID')\n",
    "    \n",
    "    \n",
    "    \n",
    "    #flatten\n",
    "    fc0=flatten(conv3)\n",
    "    \n",
    "    # Layer FC1:\n",
    "    fc1_weights = tf.Variable(tf.truncated_normal(shape=(flatten1, fc1size), mean = mu, stddev = sigma))\n",
    "    fc1_biases = tf.Variable(tf.zeros(fc1size))\n",
    "    fc1   = tf.matmul(fc0, fc1_weights) + fc1_biases\n",
    "    \n",
    "    # Activation.\n",
    "    fc1    = tf.nn.relu(fc1)\n",
    "\n",
    "    # FC2\n",
    "    fc2_weights  = tf.Variable(tf.truncated_normal(shape=(fc1size, fc2size), mean = mu, stddev = sigma))\n",
    "    fc2_biases  = tf.Variable(tf.zeros(fc2size))\n",
    "    fc2    = tf.matmul(fc1, fc2_weights) + fc2_biases\n",
    "    \n",
    "    # Activation.\n",
    "    fc2    = tf.nn.relu(fc2)\n",
    "\n",
    "    # Layer FC3\n",
    "    fc3_weights  = tf.Variable(tf.truncated_normal(shape=(fc2size, fc3size), mean = mu, stddev = sigma))\n",
    "    fc3_biases  = tf.Variable(tf.zeros(fc3size))\n",
    "    fc3    = tf.matmul(fc2, fc3_weights) + fc3_biases\n",
    "    fc3    = tf.nn.relu(fc3)\n",
    "    \n",
    "    # Layer FC4\n",
    "    \n",
    "    fc4_weights  = tf.Variable(tf.truncated_normal(shape=(fc3size, fc4size), mean = mu, stddev = sigma))\n",
    "    fc4_biases  = tf.Variable(tf.zeros(fc4size))\n",
    "    logits = tf.matmul(fc3, fc4_weights) + fc4_biases\n",
    "    \n",
    "    return logits\n",
    "\n"
   ]
  },
  {
   "cell_type": "markdown",
   "metadata": {},
   "source": [
    "### Train, Validate and Test the Model"
   ]
  },
  {
   "cell_type": "markdown",
   "metadata": {},
   "source": [
    "A validation set can be used to assess how well the model is performing. A low accuracy on the training and validation\n",
    "sets imply underfitting. A high accuracy on the training set but low accuracy on the validation set implies overfitting."
   ]
  },
  {
   "cell_type": "code",
   "execution_count": null,
   "metadata": {},
   "outputs": [],
   "source": [
    "### Train model\n",
    "\n",
    "x = tf.placeholder(tf.float32, (None, 36,36, 3)) #3-color channel image\n",
    "y = tf.placeholder(tf.int32, (None,)) #y label\n",
    "keep = tf.placeholder(tf.float32,shape=()) #dropout keep probability\n",
    "one_hot_y = tf.one_hot(y, n_classes) #one-hot y-label\n",
    "\n",
    "rate = 0.001 #learning rate\n",
    "\n",
    "logits = LeNet(x,keep)\n",
    "cross_entropy = tf.nn.softmax_cross_entropy_with_logits_v2(labels=one_hot_y, logits=logits)\n",
    "loss_operation = tf.reduce_mean(cross_entropy)\n",
    "optimizer = tf.train.AdamOptimizer(learning_rate = rate)\n",
    "training_operation = optimizer.minimize(loss_operation)"
   ]
  },
  {
   "cell_type": "code",
   "execution_count": null,
   "metadata": {},
   "outputs": [],
   "source": [
    "correct_prediction = tf.equal(tf.argmax(logits, 1), tf.argmax(one_hot_y, 1))\n",
    "accuracy_operation = tf.reduce_mean(tf.cast(correct_prediction, tf.float32))\n",
    "saver = tf.train.Saver()\n",
    "\n",
    "#evaluate accuracy of model\n",
    "def evaluate(X_data, y_data, keepNum):\n",
    "    num_examples = len(X_data)\n",
    "    total_accuracy = 0\n",
    "    sess = tf.get_default_session()\n",
    "    for offset in range(0, num_examples, BATCH_SIZE):\n",
    "        batch_x, batch_y = X_data[offset:offset+BATCH_SIZE], y_data[offset:offset+BATCH_SIZE]\n",
    "        accuracy = sess.run(accuracy_operation, feed_dict={x: batch_x, y: batch_y, keep: keepNum})\n",
    "        total_accuracy += (accuracy * len(batch_x))\n",
    "    return total_accuracy / num_examples\n",
    "\n",
    "\n",
    "#evaluate but also return top 5 probabilities \n",
    "def evaluate2(X_data, y_data, keepNum, topNum=5):\n",
    "    num_examples = len(X_data)\n",
    "    total_accuracy = 0\n",
    "    sess = tf.get_default_session()\n",
    "    for offset in range(0, num_examples, BATCH_SIZE):\n",
    "        batch_x, batch_y = X_data[offset:offset+BATCH_SIZE], y_data[offset:offset+BATCH_SIZE]\n",
    "        return sess.run(tf.nn.top_k(tf.nn.softmax(sess.run(logits, feed_dict={x: batch_x, y: batch_y, keep: keepNum})),k=topNum))"
   ]
  },
  {
   "cell_type": "code",
   "execution_count": null,
   "metadata": {},
   "outputs": [],
   "source": [
    "with tf.Session() as sess: #start session\n",
    "    sess.run(tf.global_variables_initializer()) #initialize variables\n",
    "    num_examples = len(h_train) #number of examples is length of training variable\n",
    "    \n",
    "    print(\"Training...\")\n",
    "    print()\n",
    "    \n",
    "    accuracyMax=0\n",
    "    for i in range(EPOCHS):\n",
    "        h_train, y_train = shuffle(h_train, y_train)\n",
    "        for offset in range(0, num_examples, BATCH_SIZE):\n",
    "            end = offset + BATCH_SIZE\n",
    "            batch_x, batch_y = h_train[offset:end], y_train[offset:end]\n",
    "            sess.run(training_operation, feed_dict={x: batch_x, y: batch_y, keep:0.65}) #run with 65% dropout\n",
    "            \n",
    "        validation_accuracy = evaluate(h_valid, y_valid, 1) #calculate percentage with validation set and no dropout\n",
    "        \n",
    "        \n",
    "        print(\"EPOCH {} ...\".format(i+1))\n",
    "        print(\"Validation Accuracy = {:.3f}\".format(validation_accuracy))\n",
    "        if validation_accuracy>accuracyMax+30.0/n_validation: #if model is an improvement\n",
    "            saver.save(sess, './lenet') #save model\n",
    "            print(\"Model saved\")\n",
    "            accuracyMax=validation_accuracy\n",
    "        print()\n",
    "        \n",
    "    "
   ]
  },
  {
   "cell_type": "code",
   "execution_count": null,
   "metadata": {},
   "outputs": [],
   "source": [
    "#calcluate training accuracy\n",
    "\n",
    "with tf.Session() as sess:\n",
    "    saver.restore(sess, tf.train.latest_checkpoint('.'))\n",
    "\n",
    "    train_accuracy = evaluate(h_train, y_train, 1.0) #evaluate with training data and no dropout\n",
    "    print(\"Train Accuracy = {:.3f}\".format(train_accuracy))"
   ]
  },
  {
   "cell_type": "code",
   "execution_count": null,
   "metadata": {},
   "outputs": [],
   "source": [
    "#evaluate with test data\n",
    "\n",
    "with tf.Session() as sess:\n",
    "    saver.restore(sess, tf.train.latest_checkpoint('.'))\n",
    "\n",
    "    test_accuracy = evaluate(h_test, y_test, 1.0) #evaluate with test data and no dropout\n",
    "    print(\"Test Accuracy = {:.3f}\".format(test_accuracy))"
   ]
  },
  {
   "cell_type": "markdown",
   "metadata": {},
   "source": [
    "---\n",
    "\n",
    "## Step 3: Test a Model on New Images\n",
    "\n",
    "To give yourself more insight into how your model is working, download at least five pictures of German traffic signs from the web and use your model to predict the traffic sign type.\n",
    "\n",
    "You may find `signnames.csv` useful as it contains mappings from the class id (integer) to the actual sign name."
   ]
  },
  {
   "cell_type": "markdown",
   "metadata": {},
   "source": [
    "### Load and Output the Images"
   ]
  },
  {
   "cell_type": "code",
   "execution_count": null,
   "metadata": {},
   "outputs": [],
   "source": [
    "### Load the images found online.\n",
    "\n",
    "n_web=5 #number of images downloaded from web\n",
    "\n",
    "xWeb=np.zeros((n_web,32,32,3)) #images are 32x32x3\n",
    "yWeb=np.zeros(n_web) #create label variable\n",
    "idNum=[4, 13, 14, 32, 33] #actual id numbers of images\n",
    "\n",
    "for i in range(n_web):\n",
    "    xWeb[i,:,:,:]=plt.imread('data/id'+str(idNum[i])+'.png')[:,:,0:3] #load image from file\n",
    "    yWeb[i]=idNum[i] #add actual label to y array\n",
    "    \n",
    "#pre processing similar to above\n",
    "    \n",
    "#xWeb is currently scale 0-1, multiply by 255\n",
    "xWeb=np.multiply(xWeb,255).astype(np.uint8)\n",
    "\n",
    "#pad data\n",
    "xWebP      = np.pad(xWeb, ((0,0),(2,2),(2,2),(0,0)), 'constant')\n",
    "\n",
    "#prepare processed image 4d array\n",
    "h_web=np.zeros((n_web,36,36,3),dtype=np.uint8)\n",
    "\n",
    "#for all web images\n",
    "for i in range(n_web):\n",
    "    h_web[i,:,:,:]=cv2.cvtColor(xWebP[i,:,:,0:3],cv2.COLOR_RGB2HSV) #convert to HSV\n",
    "    \n",
    "h_web=h_web.astype(float) #convert to float\n",
    "\n",
    "\n",
    "#normalize channels\n",
    "h_web[:,:,:,0]=np.subtract(np.divide(h_web[:,:,:,0],90.0),1.0)\n",
    "h_web[:,:,:,1]=np.subtract(np.divide(h_web[:,:,:,1],128.0),1.0)\n",
    "h_web[:,:,:,2]=np.subtract(np.divide(h_web[:,:,:,2],128.0),1.0)\n",
    "\n",
    "print('x_label size for web images: ' + str(h_web.shape))\n",
    "print('x_label size for test images: ' + str(h_test.shape))\n",
    "print('y_label size for web images: ' + str(yWeb.shape))\n",
    "print('y_label size for test images: ' + str(y_test.shape))"
   ]
  },
  {
   "cell_type": "markdown",
   "metadata": {},
   "source": [
    "Data shapes appear to be correct"
   ]
  },
  {
   "cell_type": "markdown",
   "metadata": {},
   "source": [
    "### Predict the Sign Type for Each Image"
   ]
  },
  {
   "cell_type": "code",
   "execution_count": null,
   "metadata": {},
   "outputs": [],
   "source": [
    "#Test web images\n",
    "\n",
    "with tf.Session() as sess:\n",
    "    saver.restore(sess, tf.train.latest_checkpoint('.'))\n",
    "\n",
    "    (sM, ind) =evaluate2(h_web, yWeb, 1.0, topNum=1)\n",
    "    \n",
    "    print(ind) #print most likely index"
   ]
  },
  {
   "cell_type": "markdown",
   "metadata": {},
   "source": [
    "### Analyze Performance"
   ]
  },
  {
   "cell_type": "code",
   "execution_count": null,
   "metadata": {},
   "outputs": [],
   "source": [
    "### Calculate the accuracy for these 5 new images. \n",
    "\n",
    "\n",
    "    \n",
    "with tf.Session() as sess:\n",
    "    saver.restore(sess, tf.train.latest_checkpoint('.'))\n",
    "\n",
    "    test_accuracy = evaluate(h_web, yWeb, 1.0) #no dropout\n",
    "    print(\"Test Accuracy = {:.3f}\".format(test_accuracy))"
   ]
  },
  {
   "cell_type": "markdown",
   "metadata": {},
   "source": [
    "### Output Top 5 Softmax Probabilities For Each Image Found on the Web"
   ]
  },
  {
   "cell_type": "markdown",
   "metadata": {},
   "source": [
    "For each of the new images, print out the model's softmax probabilities to show the **certainty** of the model's predictions (limit the output to the top 5 probabilities for each image)."
   ]
  },
  {
   "cell_type": "code",
   "execution_count": null,
   "metadata": {},
   "outputs": [],
   "source": [
    "### Print out the top five softmax probabilities for the predictions on the German traffic sign images found on the web.\n",
    "\n",
    "#Test web images to get top 5\n",
    "\n",
    "with tf.Session() as sess:\n",
    "    saver.restore(sess, tf.train.latest_checkpoint('.'))\n",
    "\n",
    "    (sM, ind) =evaluate2(h_web, yWeb, 1.0)\n",
    "    print('Top 5 softmax probabilities for each image:')\n",
    "    print(sM)\n",
    "    print()\n",
    "    print('Labels for each softmax probability')\n",
    "    print(ind)"
   ]
  }
 ],
 "metadata": {
  "anaconda-cloud": {},
  "kernelspec": {
   "display_name": "Python 3",
   "language": "python",
   "name": "python3"
  },
  "language_info": {
   "codemirror_mode": {
    "name": "ipython",
    "version": 3
   },
   "file_extension": ".py",
   "mimetype": "text/x-python",
   "name": "python",
   "nbconvert_exporter": "python",
   "pygments_lexer": "ipython3",
   "version": "3.6.8"
  }
 },
 "nbformat": 4,
 "nbformat_minor": 1
}
